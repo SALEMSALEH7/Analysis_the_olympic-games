{
 "cells": [
  {
   "cell_type": "code",
   "execution_count": 7,
   "metadata": {},
   "outputs": [],
   "source": [
    "import pandas as pd\n",
    "import numpy as np\n",
    "import panel as pn\n",
    "from bs4 import BeautifulSoup\n",
    "import requests\n",
    "import re\n",
    "# for enteractive dashbord\n",
    "pn.extension(\"tabulator\")\n",
    "import hvplot.pandas"
   ]
  },
  {
   "cell_type": "code",
   "execution_count": 8,
   "metadata": {},
   "outputs": [
    {
     "data": {
      "text/plain": [
       "60"
      ]
     },
     "execution_count": 8,
     "metadata": {},
     "output_type": "execute_result"
    }
   ],
   "source": [
    "df = pd.read_csv(\"https://raw.githubusercontent.com/owid/co2-data/master/owid-co2-data.csv\")\n",
    "df.head()\n",
    "len(df.columns)\n"
   ]
  },
  {
   "cell_type": "code",
   "execution_count": 18,
   "metadata": {},
   "outputs": [
    {
     "name": "stdout",
     "output_type": "stream",
     "text": [
      "<Response [200]>\n",
      "['html', 'GIGABYTE Gaming GeForce RTX 3080 Ti Video Card GV-N308TGAMING OC-12GD - Newegg.ca', \"\\n                vice= {\\n                    config: {\\n                        viceAccountId: 'newegg',\\n                        viceSiteId: 'neweggca',\\n                        viceSectionId: ''\\n                    }\\n                }\\n            \", '\\n']\n"
     ]
    }
   ],
   "source": [
    "#BeautifulSoup tutorialby request\n",
    "url=\"https://www.newegg.ca/gigabyte-geforce-rtx-3080-ti-gv-n308tgaming-oc-12gd/p/N82E16814932436?Description=3080&cm_re=3080-_-14-932-436-_-Product\"\n",
    "result=requests.get(url)\n",
    "print(result)\n",
    "# we need to notice not all website let us grap the contine from it like amazon so some time its hard\n",
    "doc=BeautifulSoup(result.text,\"html.parser\")\n",
    "# this will get us all the html tag then we can accs it \n",
    "#print(doc.prettify())\n",
    "# BeautifulSoup work like tree we need to bulid it in our mind like a node\n",
    "price=doc.find_all(text=\"$\")\n",
    "# we nots that there is 2 $\n",
    "parent=price[0].parent\n",
    "# we nots that tree shape like that [under 1-price -2-our value 3-our value is under tag storng ]\n",
    "storng=parent.strong\n",
    "#print(storng.string)\n",
    "# we also can do that insted\n",
    "tags=doc.find_all(text=re.compile(\"$.*\"),limit=4)\n",
    "print(tags)"
   ]
  },
  {
   "cell_type": "code",
   "execution_count": 24,
   "metadata": {},
   "outputs": [],
   "source": [
    "# this how we read the file from the web but in our server\n",
    "with open(\"index.html\",\"r\") as f:\n",
    "    page=BeautifulSoup(f,\"html.parser\")\n",
    "\n",
    "tages=page.find_all(\"input\",type=\"text\")\n",
    "for tag in tages:\n",
    "    tag[\"placeholder\"]=\"i made salem\"\n",
    "with open(\"change.html\",\"w\") as file:\n",
    "    file.write(str(page))"
   ]
  },
  {
   "cell_type": "code",
   "execution_count": null,
   "metadata": {},
   "outputs": [],
   "source": []
  }
 ],
 "metadata": {
  "interpreter": {
   "hash": "0dd272924c7cc597c5889018966c2ccb6c9651b4aec44649117dbf66b8c76eee"
  },
  "kernelspec": {
   "display_name": "Python 3.10.1 64-bit",
   "language": "python",
   "name": "python3"
  },
  "language_info": {
   "codemirror_mode": {
    "name": "ipython",
    "version": 3
   },
   "file_extension": ".py",
   "mimetype": "text/x-python",
   "name": "python",
   "nbconvert_exporter": "python",
   "pygments_lexer": "ipython3",
   "version": "3.10.1"
  },
  "orig_nbformat": 4
 },
 "nbformat": 4,
 "nbformat_minor": 2
}
